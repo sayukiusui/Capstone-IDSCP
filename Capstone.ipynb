{
 "cells": [
  {
   "cell_type": "markdown",
   "id": "51940b27-d000-4dc7-907c-519610ee9fbe",
   "metadata": {},
   "source": [
    "**Capstone for the HarvardX Course \"Introduction to Data Science with Python\"**"
   ]
  },
  {
   "cell_type": "markdown",
   "id": "ccbe62d8-bec7-400e-9953-cb1a39acd6e3",
   "metadata": {},
   "source": [
    "**Task**: Compare scenarios from different countries' COVID-19 Response to emphasize the problem of relying on a single metric such as accuracy for prediction. "
   ]
  },
  {
   "cell_type": "markdown",
   "id": "40026a42-35a5-4614-a9e4-33a5cd3efbd9",
   "metadata": {},
   "source": [
    "**Problem Setting**: At the peak of the COVID-19 pandemic, hospital authorities had to make a call about who to admit and who to send home given the limited available resources. Our problem is to have a classifier that suggests whether a patient should be immediately admitted to the hospital or sent home."
   ]
  },
  {
   "cell_type": "markdown",
   "id": "ac671861-4426-4e13-ad83-7f270dac1730",
   "metadata": {},
   "source": [
    "**The Data**: The data consists of the following predictors:\n",
    "- Age\n",
    "- Sex\n",
    "- Cough\n",
    "- Fever\n",
    "- Chills\n",
    "- Sore Throat\n",
    "- Headache\n",
    "- Fatigue\n",
    "\n",
    "The outcome is a classification prediction to indicate the **urgency of admission**. \n",
    "- **Positive**: Indicates that a patient that was admitted within 1 day from the onset of symptoms.\n",
    "- **Negative**: Indicates everyone else.\n",
    "\n"
   ]
  },
  {
   "cell_type": "markdown",
   "id": "0eaacc0f-2dd9-4ce7-b20b-98996e825b11",
   "metadata": {},
   "source": [
    "**I. Data Preprocessing and Exploratory Data Analysis (EDA)**"
   ]
  },
  {
   "cell_type": "code",
   "execution_count": null,
   "id": "3ebaa2d3-3e73-4749-ad9f-e0ba330e8643",
   "metadata": {},
   "outputs": [],
   "source": []
  }
 ],
 "metadata": {
  "kernelspec": {
   "display_name": "Python 3 (ipykernel)",
   "language": "python",
   "name": "python3"
  },
  "language_info": {
   "codemirror_mode": {
    "name": "ipython",
    "version": 3
   },
   "file_extension": ".py",
   "mimetype": "text/x-python",
   "name": "python",
   "nbconvert_exporter": "python",
   "pygments_lexer": "ipython3",
   "version": "3.12.2"
  }
 },
 "nbformat": 4,
 "nbformat_minor": 5
}
